{
 "cells": [
  {
   "cell_type": "code",
   "execution_count": 1,
   "metadata": {},
   "outputs": [],
   "source": [
    "import logging\n",
    "import os\n",
    "from datetime import datetime\n",
    "\n",
    "import numpy as np\n",
    "import torch\n",
    "\n",
    "import ns3ai_gym_env\n",
    "import gymnasium as gym\n",
    "\n",
    "from sim_args import TcpRlSimArgs\n",
    "from custom.model import *\n",
    "from custom.wrapper import CustomMonitor\n",
    "from custom.callback import TensorboardCallback\n",
    "from custom.environment import Ns3EnvWrapped"
   ]
  },
  {
   "cell_type": "code",
   "execution_count": null,
   "metadata": {},
   "outputs": [],
   "source": [
    "    parser.add_argument(\n",
    "        \"--seed\", default=42, type=int, help=\"set seed for reproducibility\"\n",
    "    )\n",
    "    parser.add_argument(\n",
    "        \"--sim_seed\", default=0, type=int, help=\"set simulation run number\"\n",
    "    )\n",
    "    parser.add_argument(\n",
    "        \"--duration\", type=float, default=100, help=\"set simulation duration (seconds)\"\n",
    "    )\n",
    "    parser.add_argument(\n",
    "        \"--save_dir\",\n",
    "        type=str,\n",
    "        default=\"save\",\n",
    "        help=\"Location where to save data\",\n",
    "    )\n",
    "    parser.add_argument(\n",
    "        \"--load_model\", default=None, type=str, help=\"Load model from file, optional\"\n",
    "    )\n",
    "    parser.add_argument(\n",
    "        \"--tensorboard_log\",\n",
    "        action=\"store_true\",\n",
    "        help=\"Log to Tensorboard, optional\",\n",
    "    )\n",
    "    parser.add_argument(\n",
    "        \"--log_level\",\n",
    "        default=\"info\",\n",
    "        type=str.upper,\n",
    "        choices=[\"CRITICAL\", \"FATAL\", \"ERROR\", \"WARN\", \"WARNING\", \"INFO\", \"DEBUG\"],\n",
    "        help=\"Log level (CRITICAL, FATAL, ERROR, WARN, WARNING, INFO, DEBUG)\",\n",
    "    )"
   ]
  },
  {
   "cell_type": "code",
   "execution_count": 2,
   "metadata": {},
   "outputs": [
    {
     "data": {
      "text/plain": [
       "<torch._C.Generator at 0x7f7047d4d250>"
      ]
     },
     "execution_count": 2,
     "metadata": {},
     "output_type": "execute_result"
    }
   ],
   "source": [
    "# set seed for python libraries, optional\n",
    "my_seed = 0\n",
    "\n",
    "np.random.seed(my_seed)\n",
    "torch.manual_seed(my_seed)"
   ]
  },
  {
   "cell_type": "code",
   "execution_count": 3,
   "metadata": {},
   "outputs": [
    {
     "name": "stdout",
     "output_type": "stream",
     "text": [
      "ns3ai_utils: Experiment initialized\n",
      "ns3ai_utils: Running ns-3 with:  ./ns3 run rl_tcp_gym -- --simSeed=0 --envTimeStep=0.1 --nLeaf=1 --error_p=0 --bottleneck_bandwidth=2Mbps --bottleneck_delay=0.01ms --access_bandwidth=10Mbps --access_delay=20ms --prefix_name=TcpVariantsComparison --data=1 --mtu=400 --duration=10.0 --flow_monitor=False --queue_disc_type=ns3::PfifoFastQueueDisc --sack=True --recovery=ns3::TcpClassicRecovery --transport_prot=TcpRlTimeBased\n",
      "[0/2] Re-checking globbed directories...\n",
      "ninja: no work to do.\n"
     ]
    },
    {
     "name": "stderr",
     "output_type": "stream",
     "text": [
      "C++ side random seed: 0\n",
      "Tcp version: ns3::TcpRlTimeBased\n"
     ]
    },
    {
     "name": "stdout",
     "output_type": "stream",
     "text": [
      "Command 'build/scratch/reinforcement-learning/ns3.40-rl_tcp_gym-debug --simSeed=0 --envTimeStep=0.1 --nLeaf=1 --error_p=0 --bottleneck_bandwidth=2Mbps --bottleneck_delay=0.01ms --access_bandwidth=10Mbps --access_delay=20ms --prefix_name=TcpVariantsComparison --data=1 --mtu=400 --duration=10.0 --flow_monitor=False --queue_disc_type=ns3::PfifoFastQueueDisc --sack=True --recovery=ns3::TcpClassicRecovery --transport_prot=TcpRlTimeBased' died with <Signals.SIGTERM: 15>.\n"
     ]
    }
   ],
   "source": [
    "# create env with env_kwargs passed as ns3 arguments\n",
    "env_kwargs = {\"ns3Settings\": TcpRlSimArgs(duration=10, simSeed=0).asdict()}\n",
    "\n",
    "env = gym.make(\n",
    "    \"ns3ai_gym_env/Ns3-v0\", targetName=\"rl_tcp_gym\", ns3Path=\"../../\", **env_kwargs  # type: ignore\n",
    ")\n",
    "\n",
    "# wrap env so seed will be changed after each reset\n",
    "env = Ns3EnvWrapped(env=env)"
   ]
  },
  {
   "cell_type": "code",
   "execution_count": null,
   "metadata": {},
   "outputs": [],
   "source": [
    "ob_space = env.observation_space\n",
    "ac_space = env.action_space\n",
    "logging.info(f\"Observation space: {ob_space}, {ob_space.dtype}\")\n",
    "logging.info(f\"Action space: {ac_space}, {ac_space.dtype}\")"
   ]
  },
  {
   "cell_type": "code",
   "execution_count": 3,
   "metadata": {},
   "outputs": [
    {
     "name": "stdout",
     "output_type": "stream",
     "text": [
      "The tensorboard extension is already loaded. To reload it, use:\n",
      "  %reload_ext tensorboard\n"
     ]
    },
    {
     "data": {
      "text/plain": [
       "Reusing TensorBoard on port 6006 (pid 13556), started 0:01:56 ago. (Use '!kill 13556' to kill it.)"
      ]
     },
     "metadata": {},
     "output_type": "display_data"
    },
    {
     "data": {
      "text/html": [
       "\n",
       "      <iframe id=\"tensorboard-frame-f7a3edc2c8677c53\" width=\"100%\" height=\"800\" frameborder=\"0\">\n",
       "      </iframe>\n",
       "      <script>\n",
       "        (function() {\n",
       "          const frame = document.getElementById(\"tensorboard-frame-f7a3edc2c8677c53\");\n",
       "          const url = new URL(\"http://localhost\");\n",
       "          const port = 6006;\n",
       "          if (port) {\n",
       "            url.port = port;\n",
       "          }\n",
       "          frame.src = url;\n",
       "        })();\n",
       "      </script>\n",
       "    "
      ],
      "text/plain": [
       "<IPython.core.display.HTML object>"
      ]
     },
     "metadata": {},
     "output_type": "display_data"
    }
   ],
   "source": [
    "# Load the TensorBoard notebook extension\n",
    "%load_ext tensorboard\n",
    "\n",
    "%tensorboard --logdir logs"
   ]
  }
 ],
 "metadata": {
  "kernelspec": {
   "display_name": "mpt",
   "language": "python",
   "name": "python3"
  },
  "language_info": {
   "codemirror_mode": {
    "name": "ipython",
    "version": 3
   },
   "file_extension": ".py",
   "mimetype": "text/x-python",
   "name": "python",
   "nbconvert_exporter": "python",
   "pygments_lexer": "ipython3",
   "version": "3.10.13"
  }
 },
 "nbformat": 4,
 "nbformat_minor": 2
}
